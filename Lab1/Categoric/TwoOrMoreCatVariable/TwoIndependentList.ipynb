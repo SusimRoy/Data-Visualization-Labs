{
 "cells": [
  {
   "cell_type": "code",
   "execution_count": 3,
   "metadata": {},
   "outputs": [],
   "source": [
    "import seaborn as sns\n",
    "import numpy as np\n",
    "import matplotlib.pyplot as plt\n",
    "import pandas as pd"
   ]
  },
  {
   "cell_type": "code",
   "execution_count": 8,
   "metadata": {},
   "outputs": [
    {
     "data": {
      "text/html": [
       "<div>\n",
       "<style scoped>\n",
       "    .dataframe tbody tr th:only-of-type {\n",
       "        vertical-align: middle;\n",
       "    }\n",
       "\n",
       "    .dataframe tbody tr th {\n",
       "        vertical-align: top;\n",
       "    }\n",
       "\n",
       "    .dataframe thead th {\n",
       "        text-align: right;\n",
       "    }\n",
       "</style>\n",
       "<table border=\"1\" class=\"dataframe\">\n",
       "  <thead>\n",
       "    <tr style=\"text-align: right;\">\n",
       "      <th></th>\n",
       "      <th>artist \"song\" \"word\"</th>\n",
       "    </tr>\n",
       "  </thead>\n",
       "  <tbody>\n",
       "    <tr>\n",
       "      <th>0</th>\n",
       "      <td>booba \"113\" \"paroles.net\"</td>\n",
       "    </tr>\n",
       "    <tr>\n",
       "      <th>1</th>\n",
       "      <td>booba \"113\" \"above\"</td>\n",
       "    </tr>\n",
       "    <tr>\n",
       "      <th>2</th>\n",
       "      <td>booba \"113\" \"lyrics\"</td>\n",
       "    </tr>\n",
       "    <tr>\n",
       "      <th>3</th>\n",
       "      <td>booba \"113\" \"function\"</td>\n",
       "    </tr>\n",
       "    <tr>\n",
       "      <th>4</th>\n",
       "      <td>booba \"113\" \"var\"</td>\n",
       "    </tr>\n",
       "    <tr>\n",
       "      <th>...</th>\n",
       "      <td>...</td>\n",
       "    </tr>\n",
       "    <tr>\n",
       "      <th>11290</th>\n",
       "      <td>nekfeu \"squa\" \"r.onreadystatechange\"</td>\n",
       "    </tr>\n",
       "    <tr>\n",
       "      <th>11291</th>\n",
       "      <td>nekfeu \"squa\" \"null\"</td>\n",
       "    </tr>\n",
       "    <tr>\n",
       "      <th>11292</th>\n",
       "      <td>nekfeu \"squa\" \"r.onload\"</td>\n",
       "    </tr>\n",
       "    <tr>\n",
       "      <th>11293</th>\n",
       "      <td>nekfeu \"squa\" \"s.parentnode.insertbefore\"</td>\n",
       "    </tr>\n",
       "    <tr>\n",
       "      <th>11294</th>\n",
       "      <td>nekfeu \"squa\" \"r\"</td>\n",
       "    </tr>\n",
       "  </tbody>\n",
       "</table>\n",
       "<p>11295 rows × 1 columns</p>\n",
       "</div>"
      ],
      "text/plain": [
       "                            artist \"song\" \"word\"\n",
       "0                      booba \"113\" \"paroles.net\"\n",
       "1                            booba \"113\" \"above\"\n",
       "2                           booba \"113\" \"lyrics\"\n",
       "3                         booba \"113\" \"function\"\n",
       "4                              booba \"113\" \"var\"\n",
       "...                                          ...\n",
       "11290       nekfeu \"squa\" \"r.onreadystatechange\"\n",
       "11291                       nekfeu \"squa\" \"null\"\n",
       "11292                   nekfeu \"squa\" \"r.onload\"\n",
       "11293  nekfeu \"squa\" \"s.parentnode.insertbefore\"\n",
       "11294                          nekfeu \"squa\" \"r\"\n",
       "\n",
       "[11295 rows x 1 columns]"
      ]
     },
     "execution_count": 8,
     "metadata": {},
     "output_type": "execute_result"
    }
   ],
   "source": [
    "url = 'https://raw.githubusercontent.com/holtzy/data_to_viz/master/Example_dataset/14_SeveralIndepLists.csv'\n",
    "df = pd.read_csv(url,on_bad_lines='skip')\n",
    "df\n"
   ]
  },
  {
   "cell_type": "code",
   "execution_count": 38,
   "metadata": {},
   "outputs": [
    {
     "name": "stdout",
     "output_type": "stream",
     "text": [
      "booba \"113\" \"paroles.net\"\n"
     ]
    }
   ],
   "source": [
    "print(df.iloc[0][0])"
   ]
  },
  {
   "cell_type": "code",
   "execution_count": 34,
   "metadata": {},
   "outputs": [],
   "source": [
    "artists = []\n",
    "song = []\n",
    "word = []"
   ]
  },
  {
   "cell_type": "code",
   "execution_count": 50,
   "metadata": {},
   "outputs": [],
   "source": [
    "for i in range(len(df)):\n",
    "    if df.loc[i][0].split()[2] == '\"null\"':\n",
    "        continue\n",
    "    else:\n",
    "        artists.append(df.iloc[i][0].split()[0])\n",
    "        song.append(df.iloc[i][0].split()[1])\n",
    "        word.append(df.iloc[i][0].split()[2])\n"
   ]
  },
  {
   "cell_type": "code",
   "execution_count": 51,
   "metadata": {},
   "outputs": [],
   "source": [
    "data = pd.DataFrame()\n",
    "data['artist'] = artists\n",
    "data['song'] = song\n",
    "data['word'] = word"
   ]
  },
  {
   "cell_type": "code",
   "execution_count": 52,
   "metadata": {},
   "outputs": [
    {
     "data": {
      "text/html": [
       "<div>\n",
       "<style scoped>\n",
       "    .dataframe tbody tr th:only-of-type {\n",
       "        vertical-align: middle;\n",
       "    }\n",
       "\n",
       "    .dataframe tbody tr th {\n",
       "        vertical-align: top;\n",
       "    }\n",
       "\n",
       "    .dataframe thead th {\n",
       "        text-align: right;\n",
       "    }\n",
       "</style>\n",
       "<table border=\"1\" class=\"dataframe\">\n",
       "  <thead>\n",
       "    <tr style=\"text-align: right;\">\n",
       "      <th></th>\n",
       "      <th>artist</th>\n",
       "      <th>song</th>\n",
       "      <th>word</th>\n",
       "    </tr>\n",
       "  </thead>\n",
       "  <tbody>\n",
       "    <tr>\n",
       "      <th>0</th>\n",
       "      <td>booba</td>\n",
       "      <td>\"113\"</td>\n",
       "      <td>\"above\"</td>\n",
       "    </tr>\n",
       "    <tr>\n",
       "      <th>1</th>\n",
       "      <td>booba</td>\n",
       "      <td>\"113\"</td>\n",
       "      <td>\"above\"</td>\n",
       "    </tr>\n",
       "    <tr>\n",
       "      <th>2</th>\n",
       "      <td>booba</td>\n",
       "      <td>\"113\"</td>\n",
       "      <td>\"above\"</td>\n",
       "    </tr>\n",
       "    <tr>\n",
       "      <th>3</th>\n",
       "      <td>booba</td>\n",
       "      <td>\"113\"</td>\n",
       "      <td>\"above\"</td>\n",
       "    </tr>\n",
       "    <tr>\n",
       "      <th>4</th>\n",
       "      <td>booba</td>\n",
       "      <td>\"113\"</td>\n",
       "      <td>\"above\"</td>\n",
       "    </tr>\n",
       "    <tr>\n",
       "      <th>...</th>\n",
       "      <td>...</td>\n",
       "      <td>...</td>\n",
       "      <td>...</td>\n",
       "    </tr>\n",
       "    <tr>\n",
       "      <th>90215</th>\n",
       "      <td>nekfeu</td>\n",
       "      <td>\"squa\"</td>\n",
       "      <td>\"r.readystate\"</td>\n",
       "    </tr>\n",
       "    <tr>\n",
       "      <th>90216</th>\n",
       "      <td>nekfeu</td>\n",
       "      <td>\"squa\"</td>\n",
       "      <td>\"r.onreadystatechange\"</td>\n",
       "    </tr>\n",
       "    <tr>\n",
       "      <th>90217</th>\n",
       "      <td>nekfeu</td>\n",
       "      <td>\"squa\"</td>\n",
       "      <td>\"r.onload\"</td>\n",
       "    </tr>\n",
       "    <tr>\n",
       "      <th>90218</th>\n",
       "      <td>nekfeu</td>\n",
       "      <td>\"squa\"</td>\n",
       "      <td>\"s.parentnode.insertbefore\"</td>\n",
       "    </tr>\n",
       "    <tr>\n",
       "      <th>90219</th>\n",
       "      <td>nekfeu</td>\n",
       "      <td>\"squa\"</td>\n",
       "      <td>\"r\"</td>\n",
       "    </tr>\n",
       "  </tbody>\n",
       "</table>\n",
       "<p>90220 rows × 3 columns</p>\n",
       "</div>"
      ],
      "text/plain": [
       "       artist    song                         word\n",
       "0       booba   \"113\"                      \"above\"\n",
       "1       booba   \"113\"                      \"above\"\n",
       "2       booba   \"113\"                      \"above\"\n",
       "3       booba   \"113\"                      \"above\"\n",
       "4       booba   \"113\"                      \"above\"\n",
       "...       ...     ...                          ...\n",
       "90215  nekfeu  \"squa\"               \"r.readystate\"\n",
       "90216  nekfeu  \"squa\"       \"r.onreadystatechange\"\n",
       "90217  nekfeu  \"squa\"                   \"r.onload\"\n",
       "90218  nekfeu  \"squa\"  \"s.parentnode.insertbefore\"\n",
       "90219  nekfeu  \"squa\"                          \"r\"\n",
       "\n",
       "[90220 rows x 3 columns]"
      ]
     },
     "execution_count": 52,
     "metadata": {},
     "output_type": "execute_result"
    }
   ],
   "source": [
    "data"
   ]
  },
  {
   "cell_type": "code",
   "execution_count": null,
   "metadata": {},
   "outputs": [],
   "source": []
  }
 ],
 "metadata": {
  "kernelspec": {
   "display_name": "Python 3",
   "language": "python",
   "name": "python3"
  },
  "language_info": {
   "codemirror_mode": {
    "name": "ipython",
    "version": 3
   },
   "file_extension": ".py",
   "mimetype": "text/x-python",
   "name": "python",
   "nbconvert_exporter": "python",
   "pygments_lexer": "ipython3",
   "version": "3.10.5"
  },
  "orig_nbformat": 4,
  "vscode": {
   "interpreter": {
    "hash": "1686d3309bf03557030823584ef56ae40970f25b65730bd6efecbafdd375dad3"
   }
  }
 },
 "nbformat": 4,
 "nbformat_minor": 2
}
